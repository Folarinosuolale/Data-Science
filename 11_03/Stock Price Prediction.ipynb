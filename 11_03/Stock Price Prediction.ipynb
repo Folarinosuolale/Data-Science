{
 "cells": [
  {
   "cell_type": "markdown",
   "id": "81e81f1a",
   "metadata": {},
   "source": [
    "## Predicting the stock market has been the bane and goal of investors since its inception"
   ]
  },
  {
   "cell_type": "markdown",
   "id": "f05a325b",
   "metadata": {},
   "source": [
    "### Let’s see how to predict stock prices using Machine Learning and the python programming language"
   ]
  },
  {
   "cell_type": "markdown",
   "id": "46ddc06a",
   "metadata": {},
   "source": [
    "### DATA PREPARATION "
   ]
  },
  {
   "cell_type": "code",
   "execution_count": 1,
   "id": "a234a95a",
   "metadata": {},
   "outputs": [],
   "source": [
    "#IMPORTING THE NECESSARY LIBRARIES\n",
    "import numpy as np\n",
    "import pandas as pd\n",
    "from sklearn import preprocessing\n",
    "from sklearn.model_selection import train_test_split\n",
    "from sklearn.linear_model import LinearRegression"
   ]
  },
  {
   "cell_type": "code",
   "execution_count": 2,
   "id": "2fab83d2",
   "metadata": {},
   "outputs": [],
   "source": [
    "def prepare_data(df,prediction_col,prediction_out,test_size):\n",
    "    label = df[prediction_col].shift(-prediction_out) #creating a new column \"label\" where the last 5 rows are NaN\n",
    "    X = np.array(df[[prediction_col]]) #creating the feature array\n",
    "    X = preprocessing.scale(X) #assigning to the X variable the preprocessing of the feature array\n",
    "    X_second = X[-prediction_out:] #creating a second column to be used later during the prediction\n",
    "    X = X[:-prediction_out] # making X to contain the training and testing datasets\n",
    "    label.dropna(inplace=True) #ensuring to drop all NaN values, so as to have real values to deal with\n",
    "    y = np.array(label)  # assigning values to the variable Y\n",
    "    X_train, X_test, Y_train, Y_test = train_test_split(X, y, test_size=test_size, random_state=0) #cross validation and test and train dataset spliting\n",
    "\n",
    "    outcome = [X_train,X_test , Y_train, Y_test , X_second]\n",
    "    return outcome"
   ]
  },
  {
   "cell_type": "markdown",
   "id": "812c527e",
   "metadata": {},
   "source": [
    "### creating a function to predict the date"
   ]
  },
  {
   "cell_type": "code",
   "execution_count": 3,
   "id": "d841c0e7",
   "metadata": {},
   "outputs": [],
   "source": [
    "def date_data(df,date_col,date_out,test_size):\n",
    "    date_label = df[date_col].shift(-date_out) #creating a new column \"date_label\" where the last 5 rows are NaN\n",
    "    A = np.array(df[[date_col]]) #creating the feature array\n",
    "    A = preprocessing.scale(A) #assigning to the A variable the preprocessing of the feature array\n",
    "    A_second = A[-date_out:] #creating a second column to be used later during the prediction\n",
    "    A = A[:-date_out] # making A to contain the training and testing datasets\n",
    "    date_label.dropna(inplace=True) #ensuring to drop all NaN values, so as to have real values to deal with\n",
    "    B = np.array(date_label)  # assigning values to the variable B\n",
    "    A_train, A_test, B_train, B_test = train_test_split(A, B, test_size=date_test_size, random_state=0) #cross validation and test and train dataset spliting\n",
    "\n",
    "    date_outcome = [A_train,A_test , B_train, B_test , A_second]\n",
    "    return date_outcome"
   ]
  },
  {
   "cell_type": "markdown",
   "id": "f92fb9ad",
   "metadata": {},
   "source": [
    "### LOADING THE DATASET"
   ]
  },
  {
   "cell_type": "code",
   "execution_count": 4,
   "id": "cd2a9163",
   "metadata": {},
   "outputs": [],
   "source": [
    "df = pd.read_csv(\"data.csv\")"
   ]
  },
  {
   "cell_type": "code",
   "execution_count": 5,
   "id": "324066d2",
   "metadata": {},
   "outputs": [
    {
     "data": {
      "text/html": [
       "<div>\n",
       "<style scoped>\n",
       "    .dataframe tbody tr th:only-of-type {\n",
       "        vertical-align: middle;\n",
       "    }\n",
       "\n",
       "    .dataframe tbody tr th {\n",
       "        vertical-align: top;\n",
       "    }\n",
       "\n",
       "    .dataframe thead th {\n",
       "        text-align: right;\n",
       "    }\n",
       "</style>\n",
       "<table border=\"1\" class=\"dataframe\">\n",
       "  <thead>\n",
       "    <tr style=\"text-align: right;\">\n",
       "      <th></th>\n",
       "      <th>Date</th>\n",
       "      <th>Open</th>\n",
       "      <th>High</th>\n",
       "      <th>Low</th>\n",
       "      <th>Close</th>\n",
       "      <th>Adj Close</th>\n",
       "      <th>Volume</th>\n",
       "    </tr>\n",
       "  </thead>\n",
       "  <tbody>\n",
       "    <tr>\n",
       "      <th>0</th>\n",
       "      <td>2020-01-27</td>\n",
       "      <td>71.320000</td>\n",
       "      <td>71.635002</td>\n",
       "      <td>71.320000</td>\n",
       "      <td>71.324997</td>\n",
       "      <td>71.324997</td>\n",
       "      <td>0</td>\n",
       "    </tr>\n",
       "    <tr>\n",
       "      <th>1</th>\n",
       "      <td>2020-01-28</td>\n",
       "      <td>71.654999</td>\n",
       "      <td>71.654999</td>\n",
       "      <td>71.178001</td>\n",
       "      <td>71.440002</td>\n",
       "      <td>71.440002</td>\n",
       "      <td>0</td>\n",
       "    </tr>\n",
       "    <tr>\n",
       "      <th>2</th>\n",
       "      <td>2020-01-29</td>\n",
       "      <td>71.230103</td>\n",
       "      <td>71.425003</td>\n",
       "      <td>71.168503</td>\n",
       "      <td>71.230400</td>\n",
       "      <td>71.230400</td>\n",
       "      <td>0</td>\n",
       "    </tr>\n",
       "    <tr>\n",
       "      <th>3</th>\n",
       "      <td>2020-01-30</td>\n",
       "      <td>71.300003</td>\n",
       "      <td>71.711998</td>\n",
       "      <td>71.300003</td>\n",
       "      <td>71.300003</td>\n",
       "      <td>71.300003</td>\n",
       "      <td>0</td>\n",
       "    </tr>\n",
       "    <tr>\n",
       "      <th>4</th>\n",
       "      <td>2020-01-31</td>\n",
       "      <td>71.639999</td>\n",
       "      <td>71.639999</td>\n",
       "      <td>71.277496</td>\n",
       "      <td>71.639999</td>\n",
       "      <td>71.639999</td>\n",
       "      <td>0</td>\n",
       "    </tr>\n",
       "  </tbody>\n",
       "</table>\n",
       "</div>"
      ],
      "text/plain": [
       "         Date       Open       High        Low      Close  Adj Close  Volume\n",
       "0  2020-01-27  71.320000  71.635002  71.320000  71.324997  71.324997       0\n",
       "1  2020-01-28  71.654999  71.654999  71.178001  71.440002  71.440002       0\n",
       "2  2020-01-29  71.230103  71.425003  71.168503  71.230400  71.230400       0\n",
       "3  2020-01-30  71.300003  71.711998  71.300003  71.300003  71.300003       0\n",
       "4  2020-01-31  71.639999  71.639999  71.277496  71.639999  71.639999       0"
      ]
     },
     "execution_count": 5,
     "metadata": {},
     "output_type": "execute_result"
    }
   ],
   "source": [
    "df.head()"
   ]
  },
  {
   "cell_type": "markdown",
   "id": "ea2847d0",
   "metadata": {},
   "source": [
    "## Prepare three input variables as already prepared in the function created in the above section\n",
    "### First input is what column to predict. Second input is how deep/far we want to go into the column to predict. Third input is the size of the test set"
   ]
  },
  {
   "cell_type": "code",
   "execution_count": 6,
   "id": "f3c18487",
   "metadata": {},
   "outputs": [],
   "source": [
    "prediction_col = (\"Close\")\n",
    "prediction_out = 7\n",
    "test_size = 0.2\n",
    "#print(df[\"date_col\"])"
   ]
  },
  {
   "cell_type": "code",
   "execution_count": 7,
   "id": "98bc223b",
   "metadata": {},
   "outputs": [],
   "source": [
    "date_col = []\n",
    "for i in df[\"Date\"]:    \n",
    "    date_col.append(i.replace(\"-\",\"\"))\n",
    "    #print(date_col)\n",
    "df[\"date_col\"] = date_col\n",
    "date_col = \"date_col\"\n",
    "date_out = 7\n",
    "date_test_size = 0.2"
   ]
  },
  {
   "cell_type": "markdown",
   "id": "1331587b",
   "metadata": {},
   "source": [
    "### Applying Machine Learning for Stock Price Prediction"
   ]
  },
  {
   "cell_type": "code",
   "execution_count": 8,
   "id": "ee80cca0",
   "metadata": {},
   "outputs": [
    {
     "data": {
      "text/plain": [
       "LinearRegression()"
      ]
     },
     "execution_count": 8,
     "metadata": {},
     "output_type": "execute_result"
    }
   ],
   "source": [
    "#spliting the data and fitting it into the linear regression model:\n",
    "\n",
    "X_train, X_test, Y_train, Y_test , X_second = prepare_data(df,prediction_col,prediction_out,test_size); #calling the method were the cross validation and data preperation is in\n",
    "learner = LinearRegression() #initializing the linear regression model\n",
    "\n",
    "learner.fit(X_train,Y_train) #training the linear regression model"
   ]
  },
  {
   "cell_type": "code",
   "execution_count": 9,
   "id": "b9a2fb22",
   "metadata": {},
   "outputs": [
    {
     "data": {
      "text/plain": [
       "LinearRegression()"
      ]
     },
     "execution_count": 9,
     "metadata": {},
     "output_type": "execute_result"
    }
   ],
   "source": [
    "#spliting the data and fitting it into the linear regression model:\n",
    "\n",
    "A_train, A_test, B_train, B_test , A_second = date_data(df,date_col,date_out,date_test_size); #calling the method were the cross validation and data preperation is in\n",
    "date_learner = LinearRegression() #initializing the linear regression model\n",
    "\n",
    "date_learner.fit(A_train,B_train) #training the linear regression model"
   ]
  },
  {
   "cell_type": "markdown",
   "id": "fb76195c",
   "metadata": {},
   "source": [
    "### Predicting the output and checking the output for prices of the stock prices:"
   ]
  },
  {
   "cell_type": "code",
   "execution_count": 10,
   "id": "af71a40f",
   "metadata": {},
   "outputs": [
    {
     "name": "stdout",
     "output_type": "stream",
     "text": [
      "{'test_score': 0.7445612741455464, 'forecast_set': array([73.41801292, 73.44272624, 73.44539219, 73.21157548, 73.24819239,\n",
      "       73.28230727, 73.26075499])}\n"
     ]
    }
   ],
   "source": [
    "score = learner.score(X_test,Y_test) #testing the linear regression model\n",
    "prediction = learner.predict(X_second) #set that will contain the forecasted data\n",
    "outcome = {}#creting json object\n",
    "outcome['test_score'] = score\n",
    "outcome['forecast_set'] = prediction\n",
    "\n",
    "print(outcome)"
   ]
  },
  {
   "cell_type": "code",
   "execution_count": 11,
   "id": "8a3bb2ae",
   "metadata": {},
   "outputs": [
    {
     "name": "stdout",
     "output_type": "stream",
     "text": [
      "{'test_score': 0.5498749280406348, 'forecast_set': array([20210425.58304392, 20210426.58492009, 20210427.58679625,\n",
      "       20210428.58867242, 20210429.59054858, 20210432.59617708,\n",
      "       20210433.59805324])}\n"
     ]
    }
   ],
   "source": [
    "date_score = date_learner.score(A_test,B_test) #testing the linear regression model\n",
    "date_prediction = date_learner.predict(A_second) #set that will contain the forecasted data\n",
    "date_outcome = {}#creting json object\n",
    "date_outcome['test_score'] = date_score\n",
    "date_outcome['forecast_set'] = date_prediction\n",
    "\n",
    "print(date_outcome)"
   ]
  },
  {
   "cell_type": "code",
   "execution_count": 12,
   "id": "0638b73f",
   "metadata": {},
   "outputs": [
    {
     "name": "stdout",
     "output_type": "stream",
     "text": [
      "The model testing score is 0.7445612741455464\n"
     ]
    }
   ],
   "source": [
    "print(\"The model testing score is \" + str(score))"
   ]
  },
  {
   "cell_type": "code",
   "execution_count": 13,
   "id": "b728056c",
   "metadata": {},
   "outputs": [
    {
     "name": "stdout",
     "output_type": "stream",
     "text": [
      "The model testing score is 0.5498749280406348\n"
     ]
    }
   ],
   "source": [
    "print(\"The model testing score is \" + str(date_score))"
   ]
  },
  {
   "cell_type": "code",
   "execution_count": 14,
   "id": "ebc8e705",
   "metadata": {},
   "outputs": [],
   "source": [
    "stock_value = []\n",
    "for i in prediction:    \n",
    "    stock_value.append(i)"
   ]
  },
  {
   "cell_type": "code",
   "execution_count": 15,
   "id": "e0bb7af9",
   "metadata": {},
   "outputs": [
    {
     "name": "stdout",
     "output_type": "stream",
     "text": [
      "[73.41801292164622, 73.44272623813349, 73.44539219099788, 73.21157547732426, 73.24819238984085, 73.28230726731897, 73.26075498545462]\n"
     ]
    }
   ],
   "source": [
    "print(stock_value)"
   ]
  },
  {
   "cell_type": "code",
   "execution_count": 16,
   "id": "f2f3ef81",
   "metadata": {},
   "outputs": [],
   "source": [
    "stock_date = []\n",
    "for i in date_prediction:    \n",
    "    stock_date.append(int(np.ceil(i)))"
   ]
  },
  {
   "cell_type": "code",
   "execution_count": 17,
   "id": "43081763",
   "metadata": {},
   "outputs": [
    {
     "name": "stdout",
     "output_type": "stream",
     "text": [
      "[20210426, 20210427, 20210428, 20210429, 20210430, 20210433, 20210434]\n"
     ]
    }
   ],
   "source": [
    "print(stock_date)"
   ]
  },
  {
   "cell_type": "code",
   "execution_count": 18,
   "id": "687f70f4",
   "metadata": {},
   "outputs": [
    {
     "name": "stdout",
     "output_type": "stream",
     "text": [
      "The predicted stock value for 20210426 is 73.41801292164622\n",
      "The predicted stock value for 20210427 is 73.44272623813349\n",
      "The predicted stock value for 20210428 is 73.44539219099788\n",
      "The predicted stock value for 20210429 is 73.21157547732426\n",
      "The predicted stock value for 20210430 is 73.24819238984085\n",
      "The predicted stock value for 20210433 is 73.28230726731897\n",
      "The predicted stock value for 20210434 is 73.26075498545462\n"
     ]
    }
   ],
   "source": [
    "#print ('stock_date, stock_value')\n",
    "for i in range(len(stock_date)):\n",
    "    print(\"The predicted stock value for \" + str(stock_date[i]) + ' is ' + str(stock_value[i]))"
   ]
  },
  {
   "cell_type": "raw",
   "id": "869a0c96",
   "metadata": {},
   "source": [
    "NOTE: The 4th Month of the year is April and it has 30 days, thus 33 and 34 would be the 3rd and 4th days of the Fifth Month (May)"
   ]
  },
  {
   "cell_type": "markdown",
   "id": "fdd26abb",
   "metadata": {},
   "source": [
    "### THE END "
   ]
  },
  {
   "cell_type": "code",
   "execution_count": 19,
   "id": "8263cc53",
   "metadata": {},
   "outputs": [],
   "source": [
    "#print(stock_date[1])"
   ]
  },
  {
   "cell_type": "code",
   "execution_count": 20,
   "id": "af8028ba",
   "metadata": {},
   "outputs": [],
   "source": [
    "#pd.to_datetime(stock_date, format='%Y%m%d')"
   ]
  },
  {
   "cell_type": "code",
   "execution_count": 21,
   "id": "a134cc7a",
   "metadata": {},
   "outputs": [],
   "source": [
    "# for i in stock_date:\n",
    "#     print(pd.to_datetime(i,format='%Y%m%d'))\n",
    "#     #print(i)"
   ]
  },
  {
   "cell_type": "code",
   "execution_count": null,
   "id": "2e14c877",
   "metadata": {},
   "outputs": [],
   "source": []
  }
 ],
 "metadata": {
  "kernelspec": {
   "display_name": "Python 3 (ipykernel)",
   "language": "python",
   "name": "python3"
  },
  "language_info": {
   "codemirror_mode": {
    "name": "ipython",
    "version": 3
   },
   "file_extension": ".py",
   "mimetype": "text/x-python",
   "name": "python",
   "nbconvert_exporter": "python",
   "pygments_lexer": "ipython3",
   "version": "3.9.7"
  }
 },
 "nbformat": 4,
 "nbformat_minor": 5
}
